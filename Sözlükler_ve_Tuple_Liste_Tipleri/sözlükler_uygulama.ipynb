{
 "cells": [
  {
   "cell_type": "markdown",
   "metadata": {},
   "source": [
    "# Soru 1"
   ]
  },
  {
   "cell_type": "markdown",
   "metadata": {},
   "source": [
    "Telefon Rehberindeki isimleri ve telefon numaralarını alınız. key kısmı isim value kısmı telefon numarası olsun. ve bir kişinin telefon numarasını yazdırınız."
   ]
  },
  {
   "cell_type": "code",
   "execution_count": 1,
   "metadata": {},
   "outputs": [],
   "source": [
    "from box import ConfigBox"
   ]
  },
  {
   "cell_type": "code",
   "execution_count": 3,
   "metadata": {},
   "outputs": [
    {
     "data": {
      "text/plain": [
       "'05374384412'"
      ]
     },
     "execution_count": 3,
     "metadata": {},
     "output_type": "execute_result"
    }
   ],
   "source": [
    "telefon_rehberim = ConfigBox({\n",
    "    'yusuf': '05374384412',\n",
    "    'gülay': '05635635632'\n",
    "})\n",
    "telefon_rehberim.yusuf"
   ]
  },
  {
   "cell_type": "markdown",
   "metadata": {},
   "source": [
    "# Soru 2:\n",
    "Bir sınıftaki öğrencilerin isimleri keys olarak alın ve 0-100 arasındaki aldığı puanları values olarak atayın.Ve sınıfın not ortalamasını hesaplayıp yazdırınız."
   ]
  },
  {
   "cell_type": "code",
   "execution_count": 14,
   "metadata": {},
   "outputs": [
    {
     "name": "stdout",
     "output_type": "stream",
     "text": [
      "dict_keys(['yusuf', 'emre', 'furkan'])\n",
      "dict_values([90, 85, 45])\n",
      "Sınıfın not ortalaması 73.33333333333333\n"
     ]
    }
   ],
   "source": [
    "ogrenci_notları:dict = ConfigBox({\n",
    "    'yusuf': 90,\n",
    "    'emre' : 85,\n",
    "    'furkan' : 45 \n",
    "})\n",
    "isimler=print(ogrenci_notları.keys())\n",
    "notlar=print(ogrenci_notları.values())\n",
    "ortalama = sum(ogrenci_notları.values())/len(ogrenci_notları)\n",
    "print(f\"Sınıfın not ortalaması {ortalama}\")"
   ]
  },
  {
   "cell_type": "markdown",
   "metadata": {},
   "source": [
    "# Ürün Envanteri\n",
    "Bir mağazada bulunan stok miktarlarını ve fiyatlarını bir sözlük içinde tutun ve belirli bir ürünün fiyat bilgisine erişin."
   ]
  },
  {
   "cell_type": "code",
   "execution_count": 15,
   "metadata": {},
   "outputs": [],
   "source": [
    "urun_envanteri:dict = ConfigBox({\n",
    "    'laptop' : {\"stok\":10, 'fiyat':15000.0},\n",
    "    'mouse': {\"stok\":20, 'fiyat':600.0},\n",
    "    'telefon': {\"stok\":5, 'fiyat':8000.0}\n",
    "})"
   ]
  },
  {
   "cell_type": "code",
   "execution_count": 16,
   "metadata": {},
   "outputs": [
    {
     "data": {
      "text/plain": [
       "15000.0"
      ]
     },
     "execution_count": 16,
     "metadata": {},
     "output_type": "execute_result"
    }
   ],
   "source": [
    "urun_envanteri.laptop.fiyat"
   ]
  },
  {
   "cell_type": "markdown",
   "metadata": {},
   "source": [
    "# Soru 4\n",
    "### Kullanıcı Profili Yönetimi \n",
    "Bir uygulamada kullanıcı bilgileri saklamak ve yönetmek için sözlük kullanıyorsunuz.user2nin yaşadığı şehiri başka bir şehir ile güncelleyin.ve user1in ismini mahmut olarak değiştirin."
   ]
  },
  {
   "cell_type": "markdown",
   "metadata": {},
   "source": []
  },
  {
   "cell_type": "code",
   "execution_count": 17,
   "metadata": {},
   "outputs": [],
   "source": [
    "kullanıcı_profilleri:dict = ConfigBox({\n",
    "    \"user1\": {'isim':'Alper','Yas':34,'sehir':'İstanbul'},\n",
    "    \"user2\": {'isim':'Yusuf','Yas': 21, 'sehir': 'Mardin'}\n",
    "})"
   ]
  },
  {
   "cell_type": "code",
   "execution_count": 21,
   "metadata": {},
   "outputs": [
    {
     "data": {
      "text/plain": [
       "ConfigBox({'isim': 'Yusuf', 'Yas': 21, 'sehir': 'Diyarbakır'})"
      ]
     },
     "execution_count": 21,
     "metadata": {},
     "output_type": "execute_result"
    }
   ],
   "source": [
    "kullanıcı_profilleri.user1.update({'isim':'Mahmut'})\n",
    "kullanıcı_profilleri.user2.update({'sehir':'Diyarbakır'})\n",
    "kullanıcı_profilleri.user1\n",
    "kullanıcı_profilleri.user2"
   ]
  },
  {
   "cell_type": "code",
   "execution_count": null,
   "metadata": {},
   "outputs": [],
   "source": []
  }
 ],
 "metadata": {
  "kernelspec": {
   "display_name": "Python 3",
   "language": "python",
   "name": "python3"
  },
  "language_info": {
   "codemirror_mode": {
    "name": "ipython",
    "version": 3
   },
   "file_extension": ".py",
   "mimetype": "text/x-python",
   "name": "python",
   "nbconvert_exporter": "python",
   "pygments_lexer": "ipython3",
   "version": "3.12.1"
  }
 },
 "nbformat": 4,
 "nbformat_minor": 2
}
