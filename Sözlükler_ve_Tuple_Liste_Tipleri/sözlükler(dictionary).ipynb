{
 "cells": [
  {
   "cell_type": "markdown",
   "metadata": {},
   "source": [
    "## Dictionary(Sözlük)"
   ]
  },
  {
   "cell_type": "markdown",
   "metadata": {},
   "source": [
    "Klasik Listelerde Organize edemediğimiz verileri Sözlük Liste tipi ile organize edebiliriz. Eğer bir veriyi sembolize etmesi gereken bir field varsa bu durumda sözlük kullanılması gerektiği anlaşılmalıdır."
   ]
  },
  {
   "cell_type": "markdown",
   "metadata": {},
   "source": [
    "### Klasik liste ile Sözlüğü kıyaslayalım"
   ]
  },
  {
   "cell_type": "code",
   "execution_count": null,
   "metadata": {},
   "outputs": [],
   "source": [
    "student = ['Yusuf', False, False, 23, ['Travelling', 'Gym', 'Boxing']] # Veriyi organize etme manipule etme sıkıntıları mevcuttur."
   ]
  },
  {
   "cell_type": "code",
   "execution_count": 2,
   "metadata": {},
   "outputs": [],
   "source": [
    "# Dictionary Olarak Yazalım\n",
    "student:dict = {\n",
    "    \"isim\":'Yusuf',\n",
    "    \"mezun_mu\":False,\n",
    "    \"evli_mi\":False,\n",
    "    \"yas\":21,\n",
    "    'hobiler':['Travelling','Gym','Boxing']\n",
    "}\n"
   ]
  },
  {
   "cell_type": "markdown",
   "metadata": {},
   "source": [
    "### ! Klasik Liste ile Sözlükler Arasındaki En Büyük Fark Listeler'de Elemanlar index ile sembolize edilir. Sözlükte ise keys ile sembolize edilir."
   ]
  },
  {
   "cell_type": "code",
   "execution_count": null,
   "metadata": {},
   "outputs": [
    {
     "ename": "KeyError",
     "evalue": "0",
     "output_type": "error",
     "traceback": [
      "\u001b[0;31m---------------------------------------------------------------------------\u001b[0m",
      "\u001b[0;31mKeyError\u001b[0m                                  Traceback (most recent call last)",
      "Cell \u001b[0;32mIn[3], line 1\u001b[0m\n\u001b[0;32m----> 1\u001b[0m \u001b[43mstudent\u001b[49m\u001b[43m[\u001b[49m\u001b[38;5;241;43m0\u001b[39;49m\u001b[43m]\u001b[49m\n",
      "\u001b[0;31mKeyError\u001b[0m: 0"
     ]
    }
   ],
   "source": [
    "student[0] # 0 diye bir key olmadığı için hata aldık"
   ]
  },
  {
   "cell_type": "code",
   "execution_count": 5,
   "metadata": {},
   "outputs": [
    {
     "data": {
      "text/plain": [
       "'Yusuf'"
      ]
     },
     "execution_count": 5,
     "metadata": {},
     "output_type": "execute_result"
    }
   ],
   "source": [
    "student[\"isim\"]"
   ]
  },
  {
   "cell_type": "code",
   "execution_count": 6,
   "metadata": {},
   "outputs": [
    {
     "data": {
      "text/plain": [
       "['Travelling', 'Gym', 'Boxing']"
      ]
     },
     "execution_count": 6,
     "metadata": {},
     "output_type": "execute_result"
    }
   ],
   "source": [
    "student[\"hobiler\"]"
   ]
  },
  {
   "cell_type": "markdown",
   "metadata": {},
   "source": [
    "# Sözlüklerde değerlere ulaşmada alternatif çözüm"
   ]
  },
  {
   "cell_type": "code",
   "execution_count": 7,
   "metadata": {},
   "outputs": [
    {
     "name": "stdout",
     "output_type": "stream",
     "text": [
      "Collecting python-box\n",
      "  Downloading python_box-7.3.2-cp312-cp312-manylinux_2_17_x86_64.manylinux2014_x86_64.whl.metadata (8.0 kB)\n",
      "Downloading python_box-7.3.2-cp312-cp312-manylinux_2_17_x86_64.manylinux2014_x86_64.whl (4.3 MB)\n",
      "\u001b[2K   \u001b[90m━━━━━━━━━━━━━━━━━━━━━━━━━━━━━━━━━━━━━━━━\u001b[0m \u001b[32m4.3/4.3 MB\u001b[0m \u001b[31m60.4 MB/s\u001b[0m eta \u001b[36m0:00:00\u001b[0m\n",
      "\u001b[?25hInstalling collected packages: python-box\n",
      "Successfully installed python-box-7.3.2\n",
      "\n",
      "\u001b[1m[\u001b[0m\u001b[34;49mnotice\u001b[0m\u001b[1;39;49m]\u001b[0m\u001b[39;49m A new release of pip is available: \u001b[0m\u001b[31;49m24.3.1\u001b[0m\u001b[39;49m -> \u001b[0m\u001b[32;49m25.0.1\u001b[0m\n",
      "\u001b[1m[\u001b[0m\u001b[34;49mnotice\u001b[0m\u001b[1;39;49m]\u001b[0m\u001b[39;49m To update, run: \u001b[0m\u001b[32;49mpython3 -m pip install --upgrade pip\u001b[0m\n"
     ]
    }
   ],
   "source": [
    "!pip install python-box"
   ]
  },
  {
   "cell_type": "code",
   "execution_count": 8,
   "metadata": {},
   "outputs": [],
   "source": [
    "from box import ConfigBox"
   ]
  },
  {
   "cell_type": "code",
   "execution_count": null,
   "metadata": {},
   "outputs": [
    {
     "ename": "AttributeError",
     "evalue": "'dict' object has no attribute 'isim'",
     "output_type": "error",
     "traceback": [
      "\u001b[0;31m---------------------------------------------------------------------------\u001b[0m",
      "\u001b[0;31mAttributeError\u001b[0m                            Traceback (most recent call last)",
      "Cell \u001b[0;32mIn[9], line 1\u001b[0m\n\u001b[0;32m----> 1\u001b[0m \u001b[43mstudent\u001b[49m\u001b[38;5;241;43m.\u001b[39;49m\u001b[43misim\u001b[49m\n",
      "\u001b[0;31mAttributeError\u001b[0m: 'dict' object has no attribute 'isim'"
     ]
    }
   ],
   "source": [
    "student.isim # normal şartlarda isim keyini bu şekilde kullanamayız."
   ]
  },
  {
   "cell_type": "code",
   "execution_count": 10,
   "metadata": {},
   "outputs": [],
   "source": [
    "student:dict = ConfigBox({\n",
    "    \"isim\":'Yusuf',\n",
    "    \"mezun_mu\":False,\n",
    "    \"evli_mi\":False,\n",
    "    \"yas\":21,\n",
    "    'hobiler':['Travelling','Gym','Boxing']\n",
    "})"
   ]
  },
  {
   "cell_type": "code",
   "execution_count": 11,
   "metadata": {},
   "outputs": [
    {
     "data": {
      "text/plain": [
       "'Yusuf'"
      ]
     },
     "execution_count": 11,
     "metadata": {},
     "output_type": "execute_result"
    }
   ],
   "source": [
    "student.isim"
   ]
  },
  {
   "cell_type": "code",
   "execution_count": 14,
   "metadata": {},
   "outputs": [
    {
     "name": "stdout",
     "output_type": "stream",
     "text": [
      "['Travelling', 'Gym', 'Boxing']\n"
     ]
    }
   ],
   "source": [
    "print(student.hobiler)"
   ]
  },
  {
   "cell_type": "code",
   "execution_count": 15,
   "metadata": {},
   "outputs": [],
   "source": [
    "student:dict = {}\n",
    "student_config_box:dict = ConfigBox({})"
   ]
  },
  {
   "cell_type": "markdown",
   "metadata": {},
   "source": [
    "# Klasik Boş Sözlüğe Eleman Ekleme"
   ]
  },
  {
   "cell_type": "code",
   "execution_count": 16,
   "metadata": {},
   "outputs": [
    {
     "data": {
      "text/plain": [
       "{'isim': 'Yusuf',\n",
       " 'mezun_mu': False,\n",
       " 'evli_mi': False,\n",
       " 'yas': 21,\n",
       " 'hobiler': ['Travellin', 'Gym', 'Boxing']}"
      ]
     },
     "execution_count": 16,
     "metadata": {},
     "output_type": "execute_result"
    }
   ],
   "source": [
    "student['isim'] = 'Yusuf'\n",
    "student['mezun_mu'] = False\n",
    "student['evli_mi'] = False\n",
    "student['yas'] = 21\n",
    "student['hobiler'] = ['Travellin','Gym','Boxing']\n",
    "student"
   ]
  },
  {
   "cell_type": "markdown",
   "metadata": {},
   "source": [
    "# Config Boxlu Boş Sözlüğe Eleman Ekleme"
   ]
  },
  {
   "cell_type": "markdown",
   "metadata": {},
   "source": []
  },
  {
   "cell_type": "code",
   "execution_count": 17,
   "metadata": {},
   "outputs": [
    {
     "name": "stdout",
     "output_type": "stream",
     "text": [
      "{'isim': 'Yusuf', 'mezun_mu': False, 'evli_mi': False, 'yas': 21, 'hobiler': ['Travelling', 'Gym', 'Boxing']}\n"
     ]
    }
   ],
   "source": [
    "student_config_box.isim = 'Yusuf'\n",
    "student_config_box.mezun_mu = False\n",
    "student_config_box.evli_mi = False\n",
    "student_config_box.yas = 21\n",
    "student_config_box.hobiler = ['Travelling','Gym','Boxing']\n",
    "print(student_config_box)"
   ]
  },
  {
   "cell_type": "markdown",
   "metadata": {},
   "source": [
    "### ! Dictionary'de Keylerin Tipleri Her zaman otomatik olarak stringdir."
   ]
  },
  {
   "cell_type": "markdown",
   "metadata": {},
   "source": [
    "Varsayılan Haricinde keyslere tip belirtebilirsin ama bu kullanılmaz. Çünkü Amlamsız."
   ]
  },
  {
   "cell_type": "code",
   "execution_count": 18,
   "metadata": {},
   "outputs": [
    {
     "name": "stdout",
     "output_type": "stream",
     "text": [
      "{(0, 0): 'Origin', 1000: 'Bin', 3.141: 'Pi'}\n"
     ]
    }
   ],
   "source": [
    "mixed_dictionary:dict = {\n",
    "    (0,0): 'Origin',\n",
    "    1000: 'Bin',\n",
    "    3.141: 'Pi'\n",
    "}\n",
    "print(mixed_dictionary)"
   ]
  },
  {
   "cell_type": "markdown",
   "metadata": {},
   "source": [
    "# Dictionary Tipinde Veri Manipülasyonu"
   ]
  },
  {
   "cell_type": "code",
   "execution_count": 19,
   "metadata": {},
   "outputs": [
    {
     "data": {
      "text/plain": [
       "{'isim': 'Yusuf',\n",
       " 'mezun_mu': True,\n",
       " 'evli_mi': True,\n",
       " 'yas': 21,\n",
       " 'hobiler': ['Çocuk Bakmak']}"
      ]
     },
     "execution_count": 19,
     "metadata": {},
     "output_type": "execute_result"
    }
   ],
   "source": [
    "student['mezun_mu'] = True\n",
    "student['evli_mi'] = True\n",
    "student['hobiler'] = ['Çocuk Bakmak']\n",
    "student"
   ]
  },
  {
   "cell_type": "markdown",
   "metadata": {},
   "source": [
    "# ConfigBox() yapısında Sözlükte Veri Manipülasyonu"
   ]
  },
  {
   "cell_type": "code",
   "execution_count": 20,
   "metadata": {},
   "outputs": [
    {
     "name": "stdout",
     "output_type": "stream",
     "text": [
      "{'isim': 'Yusuf', 'mezun_mu': True, 'evli_mi': False, 'yas': 22, 'hobiler': ['Travelling', 'Gym', 'Boxing']}\n"
     ]
    }
   ],
   "source": [
    "student_config_box.yas = 22\n",
    "student_config_box.mezun_mu = True\n",
    "print(student_config_box)"
   ]
  },
  {
   "cell_type": "markdown",
   "metadata": {},
   "source": [
    "# Sözlük Methodları"
   ]
  },
  {
   "cell_type": "markdown",
   "metadata": {},
   "source": [
    "Sözlük içerisinde keyleri sorgulayabilir. Var mı Yok mu diye"
   ]
  },
  {
   "cell_type": "code",
   "execution_count": 22,
   "metadata": {},
   "outputs": [
    {
     "name": "stdout",
     "output_type": "stream",
     "text": [
      "True\n"
     ]
    }
   ],
   "source": [
    "print('yas' in student_config_box)"
   ]
  },
  {
   "cell_type": "code",
   "execution_count": 23,
   "metadata": {},
   "outputs": [
    {
     "name": "stdout",
     "output_type": "stream",
     "text": [
      "sac_rengi diye bir keys yoktur.\n"
     ]
    }
   ],
   "source": [
    "if 'sac_rengi' in student_config_box:\n",
    "    print(f\"Öğrencinin saç rengi: {student_config_box.sac_rengi}\")\n",
    "else:\n",
    "    print(\"sac_rengi diye bir keys yoktur.\")"
   ]
  },
  {
   "cell_type": "code",
   "execution_count": 24,
   "metadata": {},
   "outputs": [],
   "source": [
    "student.clear()"
   ]
  },
  {
   "cell_type": "code",
   "execution_count": 25,
   "metadata": {},
   "outputs": [
    {
     "data": {
      "text/plain": [
       "{}"
      ]
     },
     "execution_count": 25,
     "metadata": {},
     "output_type": "execute_result"
    }
   ],
   "source": [
    "student"
   ]
  },
  {
   "cell_type": "markdown",
   "metadata": {},
   "source": [
    "dict.copy() --> Sözlüğün kopyasını alır."
   ]
  },
  {
   "cell_type": "code",
   "execution_count": 26,
   "metadata": {},
   "outputs": [
    {
     "name": "stdout",
     "output_type": "stream",
     "text": [
      "Kopya Sözlük: {'isim': 'Yusuf', 'mezun_mu': True, 'evli_mi': False, 'yas': 22, 'hobiler': ['Travelling', 'Gym', 'Boxing'], 'sac_rengi': 'Siyah'}\n",
      "Orijinal Sözlük: {'isim': 'Yusuf', 'mezun_mu': True, 'evli_mi': False, 'yas': 22, 'hobiler': ['Travelling', 'Gym', 'Boxing']}\n"
     ]
    }
   ],
   "source": [
    "copy_dict:dict = student_config_box.copy()\n",
    "copy_dict.sac_rengi = 'Siyah'\n",
    "print(f\"Kopya Sözlük: {copy_dict}\")\n",
    "print(f\"Orijinal Sözlük: {student_config_box}\")"
   ]
  },
  {
   "cell_type": "markdown",
   "metadata": {},
   "source": [
    "dict.items() sözlüğü listeye çevirir"
   ]
  },
  {
   "cell_type": "code",
   "execution_count": 27,
   "metadata": {},
   "outputs": [
    {
     "name": "stdout",
     "output_type": "stream",
     "text": [
      "dict_items([('isim', 'Yusuf'), ('mezun_mu', True), ('evli_mi', False), ('yas', 22), ('hobiler', BoxList(['Travelling', 'Gym', 'Boxing']))])\n"
     ]
    }
   ],
   "source": [
    "print(student_config_box.items())"
   ]
  },
  {
   "cell_type": "markdown",
   "metadata": {},
   "source": [
    "# items() --> Arkaplan Mantığı"
   ]
  },
  {
   "cell_type": "code",
   "execution_count": 28,
   "metadata": {},
   "outputs": [],
   "source": [
    "# 0.index = ('isim', 'Yusuf')\n",
    "# 1.index = ('mezun_mu', True)\n",
    "#....."
   ]
  },
  {
   "cell_type": "code",
   "execution_count": null,
   "metadata": {},
   "outputs": [
    {
     "name": "stdout",
     "output_type": "stream",
     "text": [
      "dict_keys(['isim', 'mezun_mu', 'evli_mi', 'yas', 'hobiler'])\n"
     ]
    }
   ],
   "source": [
    "print(student_config_box.keys()) #sadece keysleri liste olarak alır."
   ]
  },
  {
   "cell_type": "code",
   "execution_count": null,
   "metadata": {},
   "outputs": [
    {
     "name": "stdout",
     "output_type": "stream",
     "text": [
      "dict_values(['Yusuf', True, False, 22, BoxList(['Travelling', 'Gym', 'Boxing'])])\n"
     ]
    }
   ],
   "source": [
    "print(student_config_box.values())#sadece değerleri liste olarak alır."
   ]
  },
  {
   "cell_type": "markdown",
   "metadata": {},
   "source": [
    "dict.update() değeri günceller"
   ]
  },
  {
   "cell_type": "code",
   "execution_count": 32,
   "metadata": {},
   "outputs": [],
   "source": [
    "student_config_box.update({'isim':'Yusuf Feel'})"
   ]
  },
  {
   "cell_type": "code",
   "execution_count": 33,
   "metadata": {},
   "outputs": [
    {
     "data": {
      "text/plain": [
       "ConfigBox({'isim': 'Yusuf Feel', 'mezun_mu': True, 'evli_mi': False, 'yas': 22, 'hobiler': ['Travelling', 'Gym', 'Boxing']})"
      ]
     },
     "execution_count": 33,
     "metadata": {},
     "output_type": "execute_result"
    }
   ],
   "source": [
    "student_config_box"
   ]
  },
  {
   "cell_type": "markdown",
   "metadata": {},
   "source": [
    "dict.pop() Eleman Çıkarır"
   ]
  },
  {
   "cell_type": "code",
   "execution_count": 36,
   "metadata": {},
   "outputs": [
    {
     "data": {
      "text/plain": [
       "False"
      ]
     },
     "execution_count": 36,
     "metadata": {},
     "output_type": "execute_result"
    }
   ],
   "source": [
    "student_config_box.pop('evli_mi')"
   ]
  },
  {
   "cell_type": "code",
   "execution_count": 37,
   "metadata": {},
   "outputs": [
    {
     "data": {
      "text/plain": [
       "ConfigBox({'isim': 'Yusuf Feel', 'mezun_mu': True, 'yas': 22, 'hobiler': ['Travelling', 'Gym', 'Boxing']})"
      ]
     },
     "execution_count": 37,
     "metadata": {},
     "output_type": "execute_result"
    }
   ],
   "source": [
    "student_config_box"
   ]
  },
  {
   "cell_type": "markdown",
   "metadata": {},
   "source": [
    "dict.get() --> Sözlükteki value değerini bulmak için kullanılır."
   ]
  },
  {
   "cell_type": "code",
   "execution_count": 38,
   "metadata": {},
   "outputs": [
    {
     "data": {
      "text/plain": [
       "'Yusuf Feel'"
      ]
     },
     "execution_count": 38,
     "metadata": {},
     "output_type": "execute_result"
    }
   ],
   "source": [
    "student_config_box.get('isim')"
   ]
  },
  {
   "cell_type": "markdown",
   "metadata": {},
   "source": [
    "# Neden Get kullandım ve neden kullanmalıyım."
   ]
  },
  {
   "cell_type": "code",
   "execution_count": 41,
   "metadata": {},
   "outputs": [
    {
     "data": {
      "text/plain": [
       "'Naber Dünya'"
      ]
     },
     "execution_count": 41,
     "metadata": {},
     "output_type": "execute_result"
    }
   ],
   "source": [
    "'Naber Dünya'"
   ]
  },
  {
   "cell_type": "code",
   "execution_count": null,
   "metadata": {},
   "outputs": [],
   "source": []
  }
 ],
 "metadata": {
  "kernelspec": {
   "display_name": "Python 3",
   "language": "python",
   "name": "python3"
  },
  "language_info": {
   "codemirror_mode": {
    "name": "ipython",
    "version": 3
   },
   "file_extension": ".py",
   "mimetype": "text/x-python",
   "name": "python",
   "nbconvert_exporter": "python",
   "pygments_lexer": "ipython3",
   "version": "3.12.1"
  }
 },
 "nbformat": 4,
 "nbformat_minor": 2
}
